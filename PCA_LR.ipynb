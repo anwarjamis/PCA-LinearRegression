{
  "nbformat": 4,
  "nbformat_minor": 0,
  "metadata": {
    "colab": {
      "name": "PCA-LR.ipynb",
      "provenance": [],
      "collapsed_sections": []
    },
    "kernelspec": {
      "name": "python3",
      "display_name": "Python 3"
    }
  },
  "cells": [
    {
      "cell_type": "markdown",
      "metadata": {
        "id": "zBWLcAACxO9d"
      },
      "source": [
        "*Para efectos de Google Colab, primero se deben cargar los archivos iris.txt e iris_clases.txt antes de iniciar. Además se deben correr todas las casillas de código en orden para obtener los correctamente.*\n",
        "\n",
        "\n",
        "---\n",
        "\n"
      ]
    },
    {
      "cell_type": "markdown",
      "metadata": {
        "id": "xe44CGyYwRpe"
      },
      "source": [
        "Primero importamos todas las librerías necesarias para el desarrollo de cada ejercicio."
      ]
    },
    {
      "cell_type": "code",
      "metadata": {
        "id": "opzSGYY30x_Y"
      },
      "source": [
        "import numpy as np\n",
        "import scipy.linalg as la\n",
        "import matplotlib.pyplot as plt"
      ],
      "execution_count": null,
      "outputs": []
    },
    {
      "cell_type": "markdown",
      "metadata": {
        "id": "M4iNWJ5ExfBQ"
      },
      "source": [
        "Problema 1."
      ]
    },
    {
      "cell_type": "markdown",
      "metadata": {
        "id": "a8fQSgt1xuRa"
      },
      "source": [
        "Utilizando las librerías NumPy y SciPy, implemente una función PCA dim(A, k) que recibe como argumentos una matriz A y un número natural k≥1. La matriz A de n × m almacena m datos cada uno con n features (cada dato es una columna de A). La función PCA dim(A, k) debe retornar la matriz P de k × m con los datos proyectados a k dimensiones, es decir, tal que la columna i-ésima de P corresponde a la columna i-ésima de A proyectada al subespacio generado por las k componentes principales. Recuerde que al aplicar PCA debe primero centrar los datos almacenados en A. \n",
        "\n",
        "Para implementar su función debe utilizar la función svd de la librería linalg de SciPy. Todas las matrices y vectores deben ser objetos ndarray. Puede ver el archivo main.py para algunos ejemplos de usos."
      ]
    },
    {
      "cell_type": "code",
      "metadata": {
        "id": "sMCv0zjtI6VM"
      },
      "source": [
        "#Las librerías ya fueron importadas anteriormente\n",
        "\n",
        "#Primero creamos una función que centra en 0 los datos\n",
        "def centrar(A):\n",
        "  n = len(A)\n",
        "  m = len(A[0]) # definimos n y m solamente con el fin de simplificar el código mas adelante\n",
        "  promedios = [] #creamos una lista donde se almacenarán los promedios por fila\n",
        "  for i in range(n):\n",
        "    acumulador = 0 #inicializamos un acumulador en 0 que sumará los datos de la matriz para calcular el promedio\n",
        "    for j in range(m):\n",
        "      acumulador = acumulador + A[i][j] #tal como lo buscamos, el acumulador guarda la suma de todos los valores de A\n",
        "    promedio = acumulador/m #calculamos el promedio de cada fila\n",
        "    promedios.append(promedio) #guardamos en la lista promedio, el promedio de de cada fila\n",
        "  #para centrar los datos cambiamos cada valor de la matriz A por el valor inicial - el valor promedio de cada fila\n",
        "  for x in range(n):\n",
        "    for y in range(m):\n",
        "      A[x][y]=A[x][y]-promedios[x] \n",
        "  return A #finalmente esta funcion retorna la matriz A ya centrada\n",
        "\n",
        "def PCA_dim(A,k):\n",
        "  A = centrar(A) #cambiamos la matriz A entrante por la matriz A centrada que devuelve la funcion anterior\n",
        "  #aplicamos svd a la matriz ya centrada\n",
        "  U_svd, sv, V_svd = la.svd(A)\n",
        "  CP = U_svd[:, :k] \n",
        "  AkD = CP.T @ A\n",
        "  return AkD #finalmente la funcion devuelve la matriz P de datos proyectados"
      ],
      "execution_count": null,
      "outputs": []
    },
    {
      "cell_type": "markdown",
      "metadata": {
        "id": "F0QqRfX10fKM"
      },
      "source": [
        "Usamos los datos de ejemplo para comprobar que el código funciona correctamente"
      ]
    },
    {
      "cell_type": "code",
      "metadata": {
        "id": "Kspm99Mv0mMV"
      },
      "source": [
        "A = np.array([\n",
        "[0.1, 1.9, 1.2, 1.5, 1.0, 0.7, 1.1, 0.8, 0.3, 1.3, 1.1, 1.0],\n",
        "[-1.3, -1.2, -2.2, -2.3, -2.6, -2.0, -1.6, -2.1, -2.7, -1.7, -2.2, -2.1],\n",
        "[0.5, 0.6, 0.2, 0, 0.5, 1.4, -0.3, 0.8, 0, 0.5, 0.9, 0.9]\n",
        "])\n",
        "\n",
        "B = np.array([\n",
        "[0.2, -1.9, 0.3, -1.5, 0, -0.4, 1.1, -0.8, -0.5, 1.7, -1.1, 0.7],\n",
        "[1.35, -1.55, -0.2, -0.75, 0, 0, -1.6, 2.2, 0.7, 0.34, 0.2, -1.2],\n",
        "[-0.5, 0.25, 0.25, -0.3, 0.5, -1.4, 0, 0.45, 0, 0.5, -0.9, 0.8],\n",
        "[0.5, 0.6, 0.2, 0, 0.5, 1.4, -0.3, 0.8, 0, 0.5, 0.9, 0.9],\n",
        "[-0.5, -0.7, 0, 0, 0.35, 1.7, -2.3, 0.8, 0, -0.5, 0.75, -0.9]\n",
        "])\n",
        "####Ejemplos PCA_dim\n",
        "print(PCA_dim(A, 2))\n",
        "'''\n",
        "[[ 0.29805808 -1.17250224 -0.08361141 -0.29113281  0.35560667  0.36879671\n",
        " -0.43286587  0.26141474  0.896515   -0.41544751  0.09761085  0.11755779]\n",
        " [-0.44010189 -0.29059392  0.38389371  0.65161103  0.25666754 -0.84812811\n",
        "   0.55673248 -0.25555994  0.63518081 -0.08144829 -0.2549235  -0.31332992]]\n",
        "'''\n",
        "print('\\n')\n",
        "print(PCA_dim(A, 1))\n",
        "'''\n",
        "[[ 0.29805808 -1.17250224 -0.08361141 -0.29113281  0.35560667  0.36879671\n",
        "  -0.43286587  0.26141474  0.896515   -0.41544751  0.09761085  0.11755779]]\n",
        "'''\n",
        "print('\\n')\n",
        "print(PCA_dim(B, 3))\n",
        "'''\n",
        "[[ 0.51082388 -0.61781373 -0.3314679   0.15112048  0.13239179  1.73946048\n",
        "  -2.9927916   2.09722695  0.53396255 -0.89874072  1.32496667 -1.64913886]\n",
        " [-1.11664641  2.16794902 -0.30623422  1.48344974 -0.23041987  0.47841418\n",
        "  -0.0968862  -1.00170652 -0.24237443 -1.76480285  0.73108788 -0.10183031]\n",
        " [-0.34982054 -0.5960556   0.12310126 -0.37434949  0.02828915  1.65233294\n",
        "   0.04650401 -0.99130011 -0.62488695  0.37542432  0.36692892  0.34383208]]\n",
        "'''\n",
        "print('\\n')\n",
        "print(PCA_dim(B, 2))\n",
        "'''\n",
        "[[ 0.51082388 -0.61781373 -0.3314679   0.15112048  0.13239179  1.73946048\n",
        "  -2.9927916   2.09722695  0.53396255 -0.89874072  1.32496667 -1.64913886]\n",
        " [-1.11664641  2.16794902 -0.30623422  1.48344974 -0.23041987  0.47841418\n",
        "  -0.0968862  -1.00170652 -0.24237443 -1.76480285  0.73108788 -0.10183031]]\n",
        "'''\n",
        "print('\\n')"
      ],
      "execution_count": null,
      "outputs": []
    },
    {
      "cell_type": "markdown",
      "metadata": {
        "id": "TqeXLilmyCiO"
      },
      "source": [
        "Implemente una función PCA var(A, α) que recibe como argumentos una matriz A de n × m igual que la pregunta anterior y un número racional α ∈ (0, 1]. La función PCA var(A, α) debe retornar la matriz P de k × m con los datos proyectados a k dimensiones, donde k es la mínima cantidad de componentes principales de manera que la proporción de la varianza explicada con respecto a la varianza total es mayor o igual a α (recordar clase 17). Recuerde que al aplicar PCA debe primero centrar los datos almacenados en A.\n",
        "Igual que antes, debe utilizar la función svd de la librería linalg de SciPy. Todas las matrices y vectores deben ser objetos ndarray. Puede ver el archivo main.py para algunos ejemplos de usos."
      ]
    },
    {
      "cell_type": "code",
      "metadata": {
        "id": "mBSXTcpByB0C"
      },
      "source": [
        "def PCA_var(A, a):\n",
        "  A = centrar(A) #usamos la función para centrar los datos nuevamente\n",
        "  #aplicamos svd a la matriz A\n",
        "  U_svd, sv, V_svd = la.svd(A)\n",
        "  varianza_total = 0 #creamos un acumulador de \n",
        "  #(1) sabemos que los valores singulares corresponden a la raiz cuadrada de los valores propios que corresponden a la varianza total\n",
        "  for i in sv:\n",
        "    varianza_total = varianza_total + i**2 #para acumular la varianza total debemos sumar los valores de cada varianza (valores singulares elevado a 2)\n",
        "  acumulador = 0 #creamos un contador para determinar la varianza de cada iteracion\n",
        "  k = 0 #creamos un contador de k para determinar en que iteracion se supera el a solicitado\n",
        "  for j in sv:\n",
        "    acumulador += j**2 #el acumulador suma la varianza considerada en cada iteración\n",
        "    if acumulador/varianza_total >= a: #se comprueba que el porcentaje de varianza explicada sea mayor a la entregada en el valor a\n",
        "      return PCA_dim(A, k+1) #si la varianza explicada es amyor, se devuelve la matriz P usando la funcion creada en el ejercicio 1.1\n",
        "    else:\n",
        "      k += 1 #si el porcentaje de varianza explicada es menor, aumenta en 1 el valor k y se repite el proceso"
      ],
      "execution_count": null,
      "outputs": []
    },
    {
      "cell_type": "markdown",
      "metadata": {
        "id": "jH4mEeXd3Xqa"
      },
      "source": [
        "Usamos los datos de ejemplo para comprobar que el código funciona correctamente"
      ]
    },
    {
      "cell_type": "code",
      "metadata": {
        "id": "fxB2Zn5w3ger"
      },
      "source": [
        "A = np.array([\n",
        "[0.1, 1.9, 1.2, 1.5, 1.0, 0.7, 1.1, 0.8, 0.3, 1.3, 1.1, 1.0],\n",
        "[-1.3, -1.2, -2.2, -2.3, -2.6, -2.0, -1.6, -2.1, -2.7, -1.7, -2.2, -2.1],\n",
        "[0.5, 0.6, 0.2, 0, 0.5, 1.4, -0.3, 0.8, 0, 0.5, 0.9, 0.9]\n",
        "])\n",
        "\n",
        "B = np.array([\n",
        "[0.2, -1.9, 0.3, -1.5, 0, -0.4, 1.1, -0.8, -0.5, 1.7, -1.1, 0.7],\n",
        "[1.35, -1.55, -0.2, -0.75, 0, 0, -1.6, 2.2, 0.7, 0.34, 0.2, -1.2],\n",
        "[-0.5, 0.25, 0.25, -0.3, 0.5, -1.4, 0, 0.45, 0, 0.5, -0.9, 0.8],\n",
        "[0.5, 0.6, 0.2, 0, 0.5, 1.4, -0.3, 0.8, 0, 0.5, 0.9, 0.9],\n",
        "[-0.5, -0.7, 0, 0, 0.35, 1.7, -2.3, 0.8, 0, -0.5, 0.75, -0.9]\n",
        "])\n",
        "\n",
        "####Ejemplos PCA_var\n",
        "print(PCA_var(A, 0.3))\n",
        "'''\n",
        "[[ 0.29805808 -1.17250224 -0.08361141 -0.29113281  0.35560667  0.36879671\n",
        "  -0.43286587  0.26141474  0.896515   -0.41544751  0.09761085  0.11755779]]\n",
        "'''\n",
        "print('\\n')\n",
        "print(PCA_var(A, 0.8))\n",
        "'''\n",
        "[[ 0.29805808 -1.17250224 -0.08361141 -0.29113281  0.35560667  0.36879671\n",
        "  -0.43286587  0.26141474  0.896515   -0.41544751  0.09761085  0.11755779]\n",
        " [-0.44010189 -0.29059392  0.38389371  0.65161103  0.25666754 -0.84812811\n",
        "   0.55673248 -0.25555994  0.63518081 -0.08144829 -0.2549235  -0.31332992]\n",
        " [-1.00869803  0.02817213  0.12503901  0.2839802   0.40946999  0.21134732\n",
        "  -0.55917447  0.07969599 -0.15101719 -0.02774065  0.36808441  0.24084129]]\n",
        "'''\n",
        "print('\\n')\n",
        "print(PCA_var(B, 0.7))\n",
        "'''\n",
        "[[ 0.51082388 -0.61781373 -0.3314679   0.15112048  0.13239179  1.73946048\n",
        "  -2.9927916   2.09722695  0.53396255 -0.89874072  1.32496667 -1.64913886]\n",
        " [-1.11664641  2.16794902 -0.30623422  1.48344974 -0.23041987  0.47841418\n",
        "  -0.0968862  -1.00170652 -0.24237443 -1.76480285  0.73108788 -0.10183031]]\n",
        "'''\n",
        "print('\\n')\n",
        "print(PCA_var(B, 0.9))\n",
        "'''\n",
        "[[ 0.51082388 -0.61781373 -0.3314679   0.15112048  0.13239179  1.73946048\n",
        "  -2.9927916   2.09722695  0.53396255 -0.89874072  1.32496667 -1.64913886]\n",
        " [-1.11664641  2.16794902 -0.30623422  1.48344974 -0.23041987  0.47841418\n",
        "  -0.0968862  -1.00170652 -0.24237443 -1.76480285  0.73108788 -0.10183031]\n",
        " [-0.34982054 -0.5960556   0.12310126 -0.37434949  0.02828915  1.65233294\n",
        "   0.04650401 -0.99130011 -0.62488695  0.37542432  0.36692892  0.34383208]]\n",
        "'''\n",
        "print('\\n')"
      ],
      "execution_count": null,
      "outputs": []
    },
    {
      "cell_type": "markdown",
      "metadata": {
        "id": "u0ZYKyMpyTUE"
      },
      "source": [
        "Aplique su función PCA dim al Iris Flower dataset1 entregado en el archivo iris.txt. Este dataset consta de 150 datos acerca de flores cada uno con 4 features correspondientes al largo y ancho del sépalo, y al largo y ancho del pétalo. Adicionalmente las flores están clasificadas en 3 categorías: setosa, virginica y versicolor. Para cargar los datos a una matriz I, puede utilizar I = np.loadtxt(′iris.txt′). Observe que en el archivo iris.txt cada fila es un dato, por lo cual la matriz que le debe pasar a PCA dim es la transpuesta de I. Aplique PCA dim con k = 2 y k = 3 y grafique sus resultados utilizando la función DrawIrisDataSet(P) dada en main.py que recibe los datos proyectados P. Observe que DrawIrisDataSet dibuja también las 3 categorías de los datos con distintos colores. Después de graficar sus datos, ¿Qué puede observar acerca de las 3 categorías?"
      ]
    },
    {
      "cell_type": "markdown",
      "metadata": {
        "id": "e6fIXZjF4D5d"
      },
      "source": [
        "Primero copiamos la función DrawIrisDataSet para luego obtener ambos gráficos correctamente\n",
        "\n",
        "---\n",
        "*Importante recordar que para que esta sección de código funcione previamente se deben cargar los datasets a Google Colab*\n"
      ]
    },
    {
      "cell_type": "code",
      "metadata": {
        "id": "YNXO5m3Db-gf"
      },
      "source": [
        "# Funcion que dibuja los datos proyectados del Iris Flower dataset\n",
        "def DrawIrisDataSet(P):\n",
        "    n, m = P.shape\n",
        "    if n>3 or m!=150:\n",
        "        print('Error: dimensiones incorrectas')\n",
        "        return\n",
        "\n",
        "    clases = []\n",
        "    f = open('iris_clases.txt', 'r')\n",
        "    for line in f:\n",
        "        arc = line.split()\n",
        "        clases.append(arc[0])\n",
        "\n",
        "    f.close()\n",
        "    #Dibujamos en 3 dimensiones\n",
        "    if n==3:\n",
        "        fig = plt.figure()\n",
        "        ax = fig.add_subplot(111, projection='3d')\n",
        "        \n",
        "        ax.plot([0], [0], [0], \"k.\")\n",
        "        for i in range(150):\n",
        "            if clases[i] == 'setosa':\n",
        "                ax.plot([P[0, i]], [P[1, i]], [P[2, i]], \"go\")\n",
        "            elif clases[i] == 'versicolor':\n",
        "                ax.plot([P[0, i]], [P[1, i]], [P[2, i]], \"rd\")\n",
        "            else:\n",
        "                ax.plot([P[0, i]], [P[1, i]], [P[2, i]], \"b*\")\n",
        "        \n",
        "        ax.set_xlabel(\"$z_1$\", fontsize=16)\n",
        "        ax.set_ylabel(\"$z_2$\", fontsize=16)\n",
        "        ax.set_zlabel(\"$z_3$\", fontsize=16)\n",
        "\n",
        "        plt.show()\n",
        "    #Dibujamos en 2 dimensiones\n",
        "    elif n==2:\n",
        "        fig = plt.figure()\n",
        "        ax = fig.add_subplot(111, aspect='equal')\n",
        "\n",
        "        ax.plot([0], [0], \"k.\")\n",
        "        for i in range(150):\n",
        "            if clases[i] == 'setosa':\n",
        "                ax.plot([P[0, i]], [P[1, i]], \"go\")\n",
        "            elif clases[i] == 'versicolor':\n",
        "                ax.plot([P[0, i]], [P[1, i]], \"rd\")\n",
        "            else:\n",
        "                ax.plot([P[0, i]], [P[1, i]], \"b*\")\n",
        "\n",
        "        ax.set_xlabel(\"$z_1$\", fontsize=16)\n",
        "        ax.set_ylabel(\"$z_2$\", fontsize=16)\n",
        "        ax.grid(True)\n",
        "\n",
        "        plt.show()\n",
        "    #Dibujamos en 1 dimension   \n",
        "    elif n==1:\n",
        "        fig = plt.figure()\n",
        "        ax = fig.add_subplot(111, aspect='equal')\n",
        "\n",
        "        ax.plot([0], [0], \"k.\")\n",
        "        for i in range(150):\n",
        "            if clases[i] == 'setosa':\n",
        "                ax.plot([P[0, i]], [0], \"go\")\n",
        "            elif clases[i] == 'versicolor':\n",
        "                ax.plot([P[0, i]], [0], \"rd\")\n",
        "            else:\n",
        "                ax.plot([P[0, i]], [0], \"b*\")\n",
        "\n",
        "        ax.set_xlabel(\"$z_1$\", fontsize=16)\n",
        "        plt.axis([-4, 4, -1, 1])\n",
        "        ax.grid(True)\n",
        "\n",
        "        plt.show()"
      ],
      "execution_count": null,
      "outputs": []
    },
    {
      "cell_type": "markdown",
      "metadata": {
        "id": "oBYdkUQj4MUC"
      },
      "source": [
        "Luego es fácil aplicar la función pedida al dataset.\n"
      ]
    },
    {
      "cell_type": "code",
      "metadata": {
        "id": "_sPBeXSmyv1W"
      },
      "source": [
        "I = np.loadtxt('iris.txt') #importamos el dataset como funcion\n",
        "IT = I.T #debemos calcular la transpuesta para ordenar los datos de acuerdo a como los necesitamos\n",
        "\n",
        "#aplicamos PCA a la matriz con dimension 2 y 3 \n",
        "P2 = PCA_dim(IT, 2) \n",
        "P3 = PCA_dim(IT, 3)\n",
        "\n",
        "#se grafican los datos obtenidos anteriormente\n",
        "print(DrawIrisDataSet(P2)) #debe entregar un plano de 2d\n",
        "print(DrawIrisDataSet(P3)) #debe entregar un espacio en 3d"
      ],
      "execution_count": null,
      "outputs": []
    },
    {
      "cell_type": "markdown",
      "metadata": {
        "id": "mRr8U1Ts5frY"
      },
      "source": [
        "Aquí podemos notar que los datos se muestran correctamente, logrando diferenciar cada color. Además se puede ver que los datos están bastante dispersos entre si, sin embargo, están bien agrupados por cada color ya que no se cruzan entre sí. Esto se puede ver en ambos gráficos, pero más fácilmente en el caso de 2D los datos de cada color se agrupan casi sin interferir con los de los otros colores. Este gráfico de 2D corresponde a la proyección de datos del espacio del gráfico en 3D hacia un plano que minimiza la distancia entre los puntos y el gráfico."
      ]
    },
    {
      "cell_type": "markdown",
      "metadata": {
        "id": "8P_wYT8ey1d1"
      },
      "source": [
        "Problema 2."
      ]
    },
    {
      "cell_type": "markdown",
      "metadata": {
        "id": "z66oEp6Zy3NB"
      },
      "source": [
        "Utilizando las librerías NumPySciPy, implemente una función LinearRegression(X, y) que recibe como argumentos una matriz X y un vector y. La matriz X es de n × m y cada fila representa un dato2, es decir, tenemos m variables independientes y n observaciones. El vector y es de dimensión n y contiene las observaciones para la variable a explicar (o dependiente). La función LinearRegression(X, y) debe retornar el resultado de aplicar regresión lineal a X e y, es decir, un vector c de dimensión m + 1 con los coeficientes óptimos, junto con un número err indicando el error obtenido, es decir, la suma de los errores cuadráticos.\n",
        "Para implementar su función debe utilizar la función lstsq de la librería linalg de SciPy. Todas las matrices y vectores deben ser objetos ndarray. Puede ver el archivo main.py para algunos ejemplos de usos."
      ]
    },
    {
      "cell_type": "code",
      "metadata": {
        "id": "bpPCSBlwzOcB"
      },
      "source": [
        "#Con el fin de que este código sirva para cualquier matriz se crearon 3 funciones, \n",
        "#sin embargo, este problema se pudo haber resuelto de manera más simple asignando manualmente cada matriz X1 y X2\n",
        "\n",
        "#primero tomamos la matriz original y la dividiremos en cada columna de esa matriz\n",
        "def SepararFilasColumnas(X): \n",
        "  X_n = [] #creamos la lista que almacenara cada columna\n",
        "  filas = len(X)\n",
        "  columnas = len(X[0]) #esto se usa para simplificar el codigo \n",
        "  for i in range(columnas):\n",
        "    X_valores = [] #por cada iteracion se crea una matriz de los valores por fila de cada columna\n",
        "    for j in range(filas):\n",
        "      X_valores.append(X[j][i]) #se agrega los valores de las filas por columna a la matriz X_valores\n",
        "    X_n.append(X_valores) #por cada columna se agregan a la matriz X_n\n",
        "  return X_n #retornamos la matriz X_n = [[vector columna 1], [vector columna 2]]\n",
        "\n",
        "#Luego de separar por cada columna, debemos reagrupar la matriz agregando una primera columna de 1s\n",
        "def CrearMatrizFinal(X_n):\n",
        "  columnas = len(X_n)\n",
        "  filas = len(X_n[0]) #esto se usa para simplificar el codigo \n",
        "  Xf = np.ones((filas, columnas+1)) #se inicializa una matriz llena de 1s\n",
        "  for x in range(columnas):\n",
        "    Xf[:, x+1] = X_n[x] #se agregan los vectores columnas calculados en la funcion anterior luego de una columna de 1s \n",
        "  return Xf #se devuelve esta matriz para calcular la regresion lineal\n",
        "\n",
        "def LinearRegression(X, y):\n",
        "  X_n = SepararFilasColumnas(X) \n",
        "  Xf = CrearMatrizFinal(X_n) #llamamos a las primeras dos funciones para crear la matriz necesaria para aplicar la regresion\n",
        "  #aplicamos la regresion usando lstsq\n",
        "  c, err, rank, s = la.lstsq(Xf, y)\n",
        "  respuesta = 'Vector C: '+str(c)+'\\nerror: '+str(err) #escribimos el resultado\n",
        "  return respuesta #devolvemos el resultado solicitado"
      ],
      "execution_count": null,
      "outputs": []
    },
    {
      "cell_type": "markdown",
      "metadata": {
        "id": "F4T7ICBi8ieK"
      },
      "source": [
        "Usamos los datos de ejemplo para comprobar que el código funciona correctamente"
      ]
    },
    {
      "cell_type": "code",
      "metadata": {
        "colab": {
          "base_uri": "https://localhost:8080/"
        },
        "id": "Pc4oJeWE8jYa",
        "outputId": "31068721-d705-411c-f68e-dde067ea232d"
      },
      "source": [
        "########\n",
        "# Matrices X, X1 de (12,2), vectores y, y1 para probar LinearRegression\n",
        "\n",
        "X = np.array([[0.1, 0.2], [0.5, 0.1], [-0.2, -0.2], [0, -0.3], [0.3, 0], [-0.3, 0],\n",
        "              [0.1, -0.5], [-0.2, 0.3], [-0.2, 0.2], [0, 0.3], [-0.1, 0], [0, -0.1]])\n",
        "\n",
        "y = np.array([-0.25, -0.59, 0.3, 0.265, -0.1, 0.17, 0.43, -0.107, 0.06, -0.353, -0.07, 0.102])\n",
        "\n",
        "X1 = np.array([[-0.1, 0.3], [0.7, -0.1], [0.15, -1.2], [2.1, -1.3], [-0.3, 0], [-0.7, 1.1],\n",
        "              [1.5, 0.5], [-0.4, 0.2], [-0.2, -0.3], [-1.2, 0], [-0.1, 1.6], [0.3, -0.2]])\n",
        "\n",
        "y1 = np.array([0.3, 1.1, -0.3, 0.45, 0.1, -2.0, -0.73, 1.55, -0.67, -1.23, -0.07, 0.6])\n",
        "\n",
        "####Ejemplos LinearRegression\n",
        "print(LinearRegression(X, y))\n",
        "'''\n",
        "sol =\n",
        "[-0.01191667, -0.75824764, -0.95459077]\n",
        "\n",
        "err = 0.0709025824589017\n",
        "'''\n",
        "print('\\n')\n",
        "print(LinearRegression(X1, y1))\n",
        "'''\n",
        "sol =\n",
        "[-0.10388222,  0.27114973, -0.21320904]\n",
        "\n",
        "err = 9.393078961880462\n",
        "'''\n",
        "print('\\n')"
      ],
      "execution_count": null,
      "outputs": [
        {
          "output_type": "stream",
          "text": [
            "Vector C: [-0.01191667 -0.75824764 -0.95459077]\n",
            "error: 0.0709025824589017\n",
            "\n",
            "\n",
            "Vector C: [-0.10388222  0.27114973 -0.21320904]\n",
            "error: 9.393078961880462\n",
            "\n",
            "\n"
          ],
          "name": "stdout"
        }
      ]
    },
    {
      "cell_type": "markdown",
      "metadata": {
        "id": "WwkFWAp6zO3T"
      },
      "source": [
        "Aplique LinearRegression al Iris Flower dataset del problema anterior utilizando las siguientes 4 combinaciones (X1,X2 son las variables independientes e Y la variable dependiente):\n",
        "\n",
        "> (a) X1 =largo sépalo, X2 =ancho sépalo, Y =largo pétalo.\n",
        "\n",
        "> (b) X1 =largo sépalo, X2 =ancho sépalo, Y =ancho pétalo. \n",
        "\n",
        "> (c) X1 =largo pétalo, X2 =ancho pétalo, Y =largo sépalo.\n",
        "\n",
        "> (d) X1 =largo pétalo, X2 =ancho pétalo, Y =ancho sépalo.\n",
        "\n",
        "¿En qué combinación obtiene el menor error ?\n",
        "\n",
        "\n",
        "---\n",
        "\n"
      ]
    },
    {
      "cell_type": "markdown",
      "metadata": {
        "id": "W8Wk9psH9cKB"
      },
      "source": [
        "Notar que ya se habían importado los datos de la matriz I, sin embargo, es necesario transponerla para obtener la matriz en el orden requerido. \n",
        "\n",
        "Notar además que \n",
        "\n",
        "IT[0] -> largo sépalo\n",
        "\n",
        "IT[1] -> ancho sépalo\n",
        "\n",
        "IT[2] -> largo pétalo\n",
        "\n",
        "IT[3] -> ancho pétalo"
      ]
    },
    {
      "cell_type": "code",
      "metadata": {
        "id": "2J8JgyX1zgOL",
        "colab": {
          "base_uri": "https://localhost:8080/"
        },
        "outputId": "66b0ce63-ff31-4282-b262-377a8439451d"
      },
      "source": [
        "#Cuando X1 =largo sépalo, X2 =ancho sépalo, Y =largo pétalo.\n",
        "\n",
        "X1 = IT[0]\n",
        "X2 = IT[1] #en este caso la matriz ya viene separada en cada columna por lo que no se debe llamar a la funcion SepararFilasColumnas\n",
        "X_n = [X1, X2] #se unen ambos vectores en una sola matriz simulando lo entregado por la funcion SepararFilasColumnas(X)\n",
        "Xa = CrearMatrizFinal(X_n) #se sigue el mismo proceso para poder calcular la regresión lineal\n",
        "y = IT[2] #se fija la matriz y\n",
        "\n",
        "#finalmente se imprimen los resultados de este ejemplo\n",
        "print(LinearRegression(Xa, y))"
      ],
      "execution_count": null,
      "outputs": [
        {
          "output_type": "stream",
          "text": [
            "Vector C: [ 3.49732365e+13 -3.49732365e+13  1.77821461e+00 -1.33311027e+00]\n",
            "error: 61.53305506450316\n"
          ],
          "name": "stdout"
        }
      ]
    },
    {
      "cell_type": "code",
      "metadata": {
        "colab": {
          "base_uri": "https://localhost:8080/"
        },
        "id": "W-Bj6DJSS6Zz",
        "outputId": "630c28ec-6e19-407a-98bc-3a9c0fcfe602"
      },
      "source": [
        "#Cuando X1 =largo sépalo, X2 =ancho sépalo, Y =ancho pétalo.\n",
        "#Se realiza el mismo proceso que en el ejemplo a) cambiando a los datos correspondientes\n",
        "\n",
        "X1 = IT[0]\n",
        "X2 = IT[1]\n",
        "X_n = [X1, X2]\n",
        "Xa = CrearMatrizFinal(X_n)\n",
        "y = IT[3]\n",
        "\n",
        "print(LinearRegression(Xa, y))"
      ],
      "execution_count": null,
      "outputs": [
        {
          "output_type": "stream",
          "text": [
            "Vector C: [ 1.87079580e+13 -1.87079580e+13  7.25203402e-01 -4.72502171e-01]\n",
            "error: 22.404969320689403\n"
          ],
          "name": "stdout"
        }
      ]
    },
    {
      "cell_type": "code",
      "metadata": {
        "colab": {
          "base_uri": "https://localhost:8080/"
        },
        "id": "IqzNlZaNTAYg",
        "outputId": "5a9d45eb-d6f4-41af-b89e-a289c29eb2b8"
      },
      "source": [
        "#Cuando X1 =largo pétalo, X2 =ancho pétalo, Y =largo sépalo.\n",
        "#Se realiza el mismo proceso que en el ejemplo a) cambiando a los datos correspondientes\n",
        "\n",
        "X1 = IT[2]\n",
        "X2 = IT[3]\n",
        "X_n = [X1, X2]\n",
        "Xa = CrearMatrizFinal(X_n)\n",
        "y = IT[0]\n",
        "\n",
        "print(LinearRegression(Xa, y))"
      ],
      "execution_count": null,
      "outputs": [
        {
          "output_type": "stream",
          "text": [
            "Vector C: [-1.84316956e+13  1.84316956e+13  5.42060261e-01 -3.16611292e-01]\n",
            "error: 23.840691985427302\n"
          ],
          "name": "stdout"
        }
      ]
    },
    {
      "cell_type": "code",
      "metadata": {
        "colab": {
          "base_uri": "https://localhost:8080/"
        },
        "id": "HPl4GY5tTE77",
        "outputId": "20bdbad7-6347-43ac-eb98-33333c6aaa0b"
      },
      "source": [
        "#Cuando X1 =largo pétalo, X2 =ancho pétalo, Y =ancho sépalo.\n",
        "#Se realiza el mismo proceso que en el ejemplo a) cambiando a los datos correspondientes\n",
        "\n",
        "X1 = IT[2]\n",
        "X2 = IT[3]\n",
        "X_n = [X1, X2]\n",
        "Xa = CrearMatrizFinal(X_n)\n",
        "y = IT[1]\n",
        "\n",
        "print(LinearRegression(Xa, y))"
      ],
      "execution_count": null,
      "outputs": [
        {
          "output_type": "stream",
          "text": [
            "Vector C: [-1.77529335e+13  1.77529335e+13 -2.58674123e-01  3.75550292e-01]\n",
            "error: 22.119963239605838\n"
          ],
          "name": "stdout"
        }
      ]
    },
    {
      "cell_type": "markdown",
      "metadata": {
        "id": "XXCbO3PH80V0"
      },
      "source": [
        "Podemos notar que la última combinación de datos es la que tiene el menor error. "
      ]
    }
  ]
}